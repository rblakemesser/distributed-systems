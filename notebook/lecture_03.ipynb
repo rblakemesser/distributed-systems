{
 "metadata": {
  "name": ""
 },
 "nbformat": 3,
 "nbformat_minor": 0,
 "worksheets": [
  {
   "cells": [
    {
     "cell_type": "markdown",
     "metadata": {},
     "source": [
      "Outline\n",
      "==========================\n",
      "\n",
      "- poset\n",
      "- logical clock\n",
      "- vector clock\n",
      "\n",
      "\n",
      "Poset\n",
      "==========================\n",
      "\n",
      "po-set (poset) === partially ordered set. Distributed systems are posets.\n",
      "\n",
      "A **poset** is defined as a relation that is ***transitive and antisymmetric***.\n",
      "\n",
      "- $( X, \\lt )$ is a poset ($\\lt$ is irreflexive, transitive relation)\n",
      "\n",
      "- $(E, \\to)$ is a poset\n",
      "\n",
      "- $(X, \\leq)$ is a reflexive poset if $\\leq$ is reflexive, antisymmetric, and transitive\n",
      "\n",
      "Posets can be reflexive or irreflexive. \n",
      "\n",
      "- Irreflexive poset: $(2^n, \\leq)$\n",
      "- reflexive poset: ????"
     ]
    }
   ],
   "metadata": {}
  }
 ]
}