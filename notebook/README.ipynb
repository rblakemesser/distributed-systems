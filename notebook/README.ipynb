{
 "metadata": {
  "name": ""
 },
 "nbformat": 3,
 "nbformat_minor": 0,
 "worksheets": [
  {
   "cells": [
    {
     "cell_type": "markdown",
     "metadata": {},
     "source": [
      "INTRODUCTION\n",
      "=================\n",
      "\n",
      "On IPython notebook:\n",
      "\n",
      "- ctrl+m m to convert a new cell from \"code\" to \"markdown\"\n",
      "- LaTeX goes inside of dollars signs. For example:\n",
      "  - $a^2 + b^2 = c^2$\n",
      "- Double-click any cell to edit\n",
      "- After playing with the notebook for a few minutes, read up on usage [here](http://ipython.org/ipython-doc/dev/interactive/notebook.html)\n",
      "\n",
      "On this collection:\n",
      "\n",
      "- algorithm names, vocab words, theory names, and problem names will appear with emphasis: **BYZANTINE PROBLEM**\n",
      "- each section starts with an outline\n",
      "- one notebook per lecture (where each 4-hour class has 2-4 lectures)"
     ]
    },
    {
     "cell_type": "code",
     "collapsed": false,
     "input": [
      "for n, i in enumerate('hello world!'):\n",
      "    print ' ' * n + i"
     ],
     "language": "python",
     "metadata": {},
     "outputs": [
      {
       "output_type": "stream",
       "stream": "stdout",
       "text": [
        "h\n",
        " e\n",
        "  l\n",
        "   l\n",
        "    o\n",
        "      \n",
        "      w\n",
        "       o\n",
        "        r\n",
        "         l\n",
        "          d\n",
        "           !\n"
       ]
      }
     ],
     "prompt_number": 2
    }
   ],
   "metadata": {}
  }
 ]
}